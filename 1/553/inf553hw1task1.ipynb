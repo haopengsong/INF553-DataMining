{
 "cells": [
  {
   "cell_type": "code",
   "execution_count": 1,
   "metadata": {},
   "outputs": [],
   "source": [
    "from pyspark import SparkContext, SparkConf"
   ]
  },
  {
   "cell_type": "code",
   "execution_count": 2,
   "metadata": {},
   "outputs": [],
   "source": [
    "sc = SparkContext.getOrCreate()"
   ]
  },
  {
   "cell_type": "code",
   "execution_count": 3,
   "metadata": {},
   "outputs": [],
   "source": [
    "import json"
   ]
  },
  {
   "cell_type": "code",
   "execution_count": 4,
   "metadata": {},
   "outputs": [],
   "source": [
    "review = sc.textFile(\"/Users/haopengsong/Downloads/yelp_dataset/review.json\")"
   ]
  },
  {
   "cell_type": "code",
   "execution_count": 5,
   "metadata": {},
   "outputs": [],
   "source": [
    "def mapper(s):\n",
    "    element = json.loads(s)\n",
    "    if int(element['useful']) > 0:\n",
    "        return (element[\"review_id\"], 1)"
   ]
  },
  {
   "cell_type": "code",
   "execution_count": 6,
   "metadata": {},
   "outputs": [],
   "source": [
    "review_map = review.map(mapper)"
   ]
  },
  {
   "cell_type": "code",
   "execution_count": 7,
   "metadata": {},
   "outputs": [
    {
     "data": {
      "text/plain": [
       "PythonRDD[2] at RDD at PythonRDD.scala:52"
      ]
     },
     "execution_count": 7,
     "metadata": {},
     "output_type": "execute_result"
    }
   ],
   "source": [
    "review_map"
   ]
  },
  {
   "cell_type": "code",
   "execution_count": 150,
   "metadata": {},
   "outputs": [],
   "source": [
    "a = review_map.take(10)"
   ]
  },
  {
   "cell_type": "code",
   "execution_count": 153,
   "metadata": {},
   "outputs": [
    {
     "data": {
      "text/plain": [
       "1"
      ]
     },
     "execution_count": 153,
     "metadata": {},
     "output_type": "execute_result"
    }
   ],
   "source": [
    "a[0][1]"
   ]
  },
  {
   "cell_type": "code",
   "execution_count": 8,
   "metadata": {},
   "outputs": [
    {
     "data": {
      "text/plain": [
       "6685900"
      ]
     },
     "execution_count": 8,
     "metadata": {},
     "output_type": "execute_result"
    }
   ],
   "source": [
    "review_map.count()"
   ]
  },
  {
   "cell_type": "code",
   "execution_count": 12,
   "metadata": {},
   "outputs": [
    {
     "data": {
      "text/plain": [
       "3115446"
      ]
     },
     "execution_count": 12,
     "metadata": {},
     "output_type": "execute_result"
    }
   ],
   "source": [
    "#task 1.A\n",
    "review_result = review_map.filter(lambda x : x != None)\n",
    "review_result.count()"
   ]
  },
  {
   "cell_type": "code",
   "execution_count": 10,
   "metadata": {},
   "outputs": [],
   "source": [
    "#task 1.A checker\n",
    "sumUsefulReview = review_result.map(lambda x : x[1]).sum()"
   ]
  },
  {
   "cell_type": "code",
   "execution_count": 11,
   "metadata": {},
   "outputs": [
    {
     "data": {
      "text/plain": [
       "3115446"
      ]
     },
     "execution_count": 11,
     "metadata": {},
     "output_type": "execute_result"
    }
   ],
   "source": [
    "sumUsefulReview"
   ]
  },
  {
   "cell_type": "code",
   "execution_count": 164,
   "metadata": {},
   "outputs": [],
   "source": [
    "def mapper_stars(s):\n",
    "    element = json.loads(s)\n",
    "    if int(element['stars']) >= 5:\n",
    "        return (element['review_id'], 1)"
   ]
  },
  {
   "cell_type": "code",
   "execution_count": 165,
   "metadata": {},
   "outputs": [
    {
     "data": {
      "text/plain": [
       "2933082"
      ]
     },
     "execution_count": 165,
     "metadata": {},
     "output_type": "execute_result"
    }
   ],
   "source": [
    "#task 1.B\n",
    "review_star = review.map(mapper_stars).filter(lambda x : x != None).distinct()\n",
    "review_star.count()"
   ]
  },
  {
   "cell_type": "code",
   "execution_count": 166,
   "metadata": {},
   "outputs": [
    {
     "name": "stdout",
     "output_type": "stream",
     "text": [
      "2933082\n"
     ]
    }
   ],
   "source": [
    "#task 1.B checker\n",
    "sumStartReview = review_star.map(lambda x : x[1]).sum()\n",
    "print(sumStartReview)"
   ]
  },
  {
   "cell_type": "code",
   "execution_count": 167,
   "metadata": {},
   "outputs": [],
   "source": [
    "def mapper_text(s):\n",
    "    element = json.loads(s)\n",
    "    return (element['review_id'], len(element['text']))"
   ]
  },
  {
   "cell_type": "code",
   "execution_count": 168,
   "metadata": {},
   "outputs": [],
   "source": [
    "#task 1.C\n",
    "longestReviewLen = review.map(mapper_text).map(lambda x : x[1]).max()"
   ]
  },
  {
   "cell_type": "code",
   "execution_count": 171,
   "metadata": {},
   "outputs": [
    {
     "name": "stdout",
     "output_type": "stream",
     "text": [
      "5000\n"
     ]
    }
   ],
   "source": [
    "print(longestReviewLen)"
   ]
  },
  {
   "cell_type": "code",
   "execution_count": 203,
   "metadata": {},
   "outputs": [],
   "source": [
    "def mapper_text_exists(s):\n",
    "    element = json.loads(s)\n",
    "    if element['text'] != None and len(element['text']) > 0:\n",
    "        return element['user_id']"
   ]
  },
  {
   "cell_type": "code",
   "execution_count": 206,
   "metadata": {},
   "outputs": [],
   "source": [
    "#task 1.D\n",
    "numUserReviews = review.map(mapper_text_exists).distinct().count()"
   ]
  },
  {
   "cell_type": "code",
   "execution_count": 207,
   "metadata": {},
   "outputs": [
    {
     "data": {
      "text/plain": [
       "1637138"
      ]
     },
     "execution_count": 207,
     "metadata": {},
     "output_type": "execute_result"
    }
   ],
   "source": [
    "numUserReviews"
   ]
  },
  {
   "cell_type": "code",
   "execution_count": 209,
   "metadata": {},
   "outputs": [],
   "source": [
    "def mapper_user_reviews(s):\n",
    "    element = json.loads(s)\n",
    "    if element['text'] != None and len(element['text']) > 0:\n",
    "        return (element['user_id'], 1)"
   ]
  },
  {
   "cell_type": "code",
   "execution_count": 210,
   "metadata": {},
   "outputs": [],
   "source": [
    "topUserWithReview = review.map(mapper_user_reviews).reduceByKey(lambda a, b: a + b)"
   ]
  },
  {
   "cell_type": "code",
   "execution_count": 213,
   "metadata": {},
   "outputs": [
    {
     "data": {
      "text/plain": [
       "1637138"
      ]
     },
     "execution_count": 213,
     "metadata": {},
     "output_type": "execute_result"
    }
   ],
   "source": [
    "topUserWithReview.count()"
   ]
  },
  {
   "cell_type": "code",
   "execution_count": 219,
   "metadata": {},
   "outputs": [],
   "source": [
    "topUserResult = topUserWithReview.takeOrdered(20, key = lambda x : -x[1])"
   ]
  },
  {
   "cell_type": "code",
   "execution_count": 220,
   "metadata": {},
   "outputs": [
    {
     "data": {
      "text/plain": [
       "[('CxDOIDnH8gp9KXzpBHJYXw', 4129),\n",
       " ('bLbSNkLggFnqwNNzzq-Ijw', 2354),\n",
       " ('PKEzKWv_FktMm2mGPjwd0Q', 1822),\n",
       " ('ELcQDlf69kb-ihJfxZyL0A', 1764),\n",
       " ('DK57YibC5ShBmqQl97CKog', 1727),\n",
       " ('U4INQZOPSUaj8hMjLlZ3KA', 1559),\n",
       " ('QJI9OSEn6ujRCtrX06vs1w', 1496),\n",
       " ('d_TBs6J3twMy9GChqUEXkg', 1360),\n",
       " ('hWDybu_KvYLSdEFzGrniTw', 1355),\n",
       " ('cMEtAiW60I5wE_vLfTxoJQ', 1255),\n",
       " ('YRcaNlwQ6XXPFDXWtuMGdA', 1234),\n",
       " ('62GNFh5FySkA3MbrQmnqvg', 1199),\n",
       " ('dIIKEfOgo0KqUfGQvGikPg', 1198),\n",
       " ('UYcmGbelzRa0Q6JqzLoguw', 1196),\n",
       " ('n86B7IkbU20AkxlFX_5aew', 1152),\n",
       " ('rCWrxuRC8_pfagpchtHp6A', 1148),\n",
       " ('3nDUQBjKyVor5wV0reJChg', 1106),\n",
       " ('iDlkZO2iILS8Jwfdy7DP9A', 1088),\n",
       " ('U5YQX_vMl_xQy8EQDqlNQQ', 1024),\n",
       " ('0BBUmH7Krcax1RZgbH4fSA', 1018)]"
      ]
     },
     "execution_count": 220,
     "metadata": {},
     "output_type": "execute_result"
    }
   ],
   "source": [
    "#task 1.E\n",
    "topUserResult"
   ]
  },
  {
   "cell_type": "code",
   "execution_count": 226,
   "metadata": {},
   "outputs": [
    {
     "data": {
      "text/plain": [
       "list"
      ]
     },
     "execution_count": 226,
     "metadata": {},
     "output_type": "execute_result"
    }
   ],
   "source": [
    "type(topUserResult)"
   ]
  },
  {
   "cell_type": "code",
   "execution_count": 221,
   "metadata": {},
   "outputs": [],
   "source": [
    "def mapper_business_id(s):\n",
    "    element = json.loads(s)\n",
    "    return element['business_id']"
   ]
  },
  {
   "cell_type": "code",
   "execution_count": 222,
   "metadata": {},
   "outputs": [
    {
     "name": "stdout",
     "output_type": "stream",
     "text": [
      "192606\n"
     ]
    }
   ],
   "source": [
    "#task 1.F\n",
    "numBusinessReviewed = review.map(mapper_business_id).distinct().count()\n",
    "print(numBusinessReviewed)"
   ]
  },
  {
   "cell_type": "code",
   "execution_count": 223,
   "metadata": {},
   "outputs": [],
   "source": [
    "def mapper_business_reviews(s):\n",
    "    element = json.loads(s)\n",
    "    if element['text'] != None and len(element['text']) > 0:\n",
    "        return (element['business_id'], 1)"
   ]
  },
  {
   "cell_type": "code",
   "execution_count": 224,
   "metadata": {},
   "outputs": [],
   "source": [
    "topBusinessWithReview = review.map(mapper_business_reviews).reduceByKey(lambda a, b: a + b).takeOrdered(20, key = lambda x : -x[1])"
   ]
  },
  {
   "cell_type": "code",
   "execution_count": 225,
   "metadata": {},
   "outputs": [
    {
     "data": {
      "text/plain": [
       "[('4JNXUYY8wbaaDmk3BPzlWw', 8570),\n",
       " ('RESDUcs7fIiihp38-d6_6g', 8568),\n",
       " ('K7lWdNUhCbcnEvI0NhGewg', 6887),\n",
       " ('f4x1YBxkLrZg652xt2KR5g', 5847),\n",
       " ('cYwJA2A6I12KNkm2rtXd5g', 5575),\n",
       " ('DkYS3arLOhA8si5uUEmHOw', 5206),\n",
       " ('2weQS-RnoOBhb1KsHKyoSQ', 4534),\n",
       " ('5LNZ67Yw9RD6nf4_UhXOjw', 4522),\n",
       " ('iCQpiavjjPzJ5_3gPD5Ebg', 4351),\n",
       " ('SMPbvZLSMMb7KU76YNYMGg', 4350),\n",
       " ('ujHiaprwCQ5ewziu0Vi9rw', 4318),\n",
       " ('AV6weBrZFFBfRGCbcRGO4g', 4240),\n",
       " ('KskYqH1Bi7Z_61pH6Om8pg', 4131),\n",
       " ('El4FC8jcawUVgw_0EIcbaQ', 4093),\n",
       " ('rcaPajgKOJC2vo_l3xa42A', 4014),\n",
       " ('eoHdUeQDNgQ6WYEnP2aiRw', 4006),\n",
       " ('FaHADZARwnY4yvlvpnsfGA', 3710),\n",
       " ('faPVqws-x-5k2CQKDNtHxw', 3662),\n",
       " ('OETh78qcgDltvHULowwhJg', 3642),\n",
       " ('Wxxvi3LZbHNIDwJ-ZimtnA', 3579)]"
      ]
     },
     "execution_count": 225,
     "metadata": {},
     "output_type": "execute_result"
    }
   ],
   "source": [
    "topBusinessWithReview"
   ]
  },
  {
   "cell_type": "code",
   "execution_count": 243,
   "metadata": {},
   "outputs": [],
   "source": [
    "a = [('abc', 3),('bcd', 3),('abc', 2),('rcv', 2),('cde', 1), ('qwe', 1)]"
   ]
  },
  {
   "cell_type": "code",
   "execution_count": 244,
   "metadata": {},
   "outputs": [
    {
     "data": {
      "text/plain": [
       "[('abc', 3), ('bcd', 3), ('abc', 2), ('rcv', 2), ('cde', 1), ('qwe', 1)]"
      ]
     },
     "execution_count": 244,
     "metadata": {},
     "output_type": "execute_result"
    }
   ],
   "source": [
    "a"
   ]
  },
  {
   "cell_type": "code",
   "execution_count": 245,
   "metadata": {},
   "outputs": [
    {
     "data": {
      "text/plain": [
       "'abc'"
      ]
     },
     "execution_count": 245,
     "metadata": {},
     "output_type": "execute_result"
    }
   ],
   "source": [
    "a[0][0]"
   ]
  },
  {
   "cell_type": "code",
   "execution_count": 246,
   "metadata": {},
   "outputs": [
    {
     "data": {
      "text/plain": [
       "3"
      ]
     },
     "execution_count": 246,
     "metadata": {},
     "output_type": "execute_result"
    }
   ],
   "source": [
    "a[0][1]"
   ]
  },
  {
   "cell_type": "code",
   "execution_count": 247,
   "metadata": {},
   "outputs": [
    {
     "data": {
      "text/plain": [
       "[('abc', 3), ('bcd', 3), ('abc', 2), ('rcv', 2), ('cde', 1), ('qwe', 1)]"
      ]
     },
     "execution_count": 247,
     "metadata": {},
     "output_type": "execute_result"
    }
   ],
   "source": [
    "sorted(a, key = lambda i : i[1], reverse = True)"
   ]
  },
  {
   "cell_type": "code",
   "execution_count": null,
   "metadata": {},
   "outputs": [],
   "source": []
  }
 ],
 "metadata": {
  "kernelspec": {
   "display_name": "Python 3",
   "language": "python",
   "name": "python3"
  },
  "language_info": {
   "codemirror_mode": {
    "name": "ipython",
    "version": 3
   },
   "file_extension": ".py",
   "mimetype": "text/x-python",
   "name": "python",
   "nbconvert_exporter": "python",
   "pygments_lexer": "ipython3",
   "version": "3.6.8"
  }
 },
 "nbformat": 4,
 "nbformat_minor": 2
}
