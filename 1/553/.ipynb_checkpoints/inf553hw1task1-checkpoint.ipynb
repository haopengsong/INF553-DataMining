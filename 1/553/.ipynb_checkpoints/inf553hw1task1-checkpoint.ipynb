{
 "cells": [
  {
   "cell_type": "code",
   "execution_count": 1,
   "metadata": {},
   "outputs": [],
   "source": [
    "from pyspark import SparkContext, SparkConf"
   ]
  },
  {
   "cell_type": "code",
   "execution_count": 2,
   "metadata": {},
   "outputs": [],
   "source": [
    "sc = SparkContext.getOrCreate()"
   ]
  },
  {
   "cell_type": "code",
   "execution_count": 3,
   "metadata": {},
   "outputs": [],
   "source": [
    "import json"
   ]
  },
  {
   "cell_type": "code",
   "execution_count": 4,
   "metadata": {},
   "outputs": [],
   "source": [
    "review = sc.textFile(\"/Users/haopengsong/Downloads/yelp_dataset/review.json\")"
   ]
  },
  {
   "cell_type": "code",
   "execution_count": 5,
   "metadata": {},
   "outputs": [
    {
     "data": {
      "text/plain": [
       "/Users/haopengsong/Downloads/yelp_dataset/review.json MapPartitionsRDD[1] at textFile at NativeMethodAccessorImpl.java:0"
      ]
     },
     "execution_count": 5,
     "metadata": {},
     "output_type": "execute_result"
    }
   ],
   "source": [
    "review"
   ]
  },
  {
   "cell_type": "code",
   "execution_count": 6,
   "metadata": {},
   "outputs": [
    {
     "data": {
      "text/plain": [
       "6685900"
      ]
     },
     "execution_count": 6,
     "metadata": {},
     "output_type": "execute_result"
    }
   ],
   "source": [
    "review.count()"
   ]
  },
  {
   "cell_type": "code",
   "execution_count": 7,
   "metadata": {},
   "outputs": [
    {
     "data": {
      "text/plain": [
       "/Users/haopengsong/Downloads/yelp_dataset/review.json MapPartitionsRDD[1] at textFile at NativeMethodAccessorImpl.java:0"
      ]
     },
     "execution_count": 7,
     "metadata": {},
     "output_type": "execute_result"
    }
   ],
   "source": [
    "review"
   ]
  },
  {
   "cell_type": "code",
   "execution_count": 8,
   "metadata": {},
   "outputs": [
    {
     "data": {
      "text/plain": [
       "'{\"review_id\":\"zzzuOUz7Owtf4EEHvX0m0g\",\"user_id\":\"YBDSyl3of0VHqe9KeHrNiw\",\"business_id\":\"C9ImzBi5fn742ZcAYDww2A\",\"stars\":5.0,\"useful\":0,\"funny\":0,\"cool\":0,\"text\":\"This is a really nice place to go for breakfast . The food is great , people there r very nice and friendly. I went to breakfast with 2 of my friend there ,for one of their birthday and we really enjoy it.\",\"date\":\"2017-10-21 03:30:36\"}'"
      ]
     },
     "execution_count": 8,
     "metadata": {},
     "output_type": "execute_result"
    }
   ],
   "source": [
    "review.max()"
   ]
  },
  {
   "cell_type": "code",
   "execution_count": 9,
   "metadata": {},
   "outputs": [
    {
     "data": {
      "text/plain": [
       "['{\"review_id\":\"zzzuOUz7Owtf4EEHvX0m0g\",\"user_id\":\"YBDSyl3of0VHqe9KeHrNiw\",\"business_id\":\"C9ImzBi5fn742ZcAYDww2A\",\"stars\":5.0,\"useful\":0,\"funny\":0,\"cool\":0,\"text\":\"This is a really nice place to go for breakfast . The food is great , people there r very nice and friendly. I went to breakfast with 2 of my friend there ,for one of their birthday and we really enjoy it.\",\"date\":\"2017-10-21 03:30:36\"}',\n",
       " '{\"review_id\":\"zzzr473gRNLm2ynwJfOB8Q\",\"user_id\":\"-TRH_GmJmkzYq_LiosbWXQ\",\"business_id\":\"uYwrnzTbEEGpkFRT_3XluA\",\"stars\":1.0,\"useful\":7,\"funny\":1,\"cool\":0,\"text\":\"Beware!!! NASM is a mockery to the Fitness Profession.  My advise:  Do your research and talk to those who have had recent experiences with them. Check the positive reviews and you will find that they were paid to write those positive reviews.  Unfortunately , my experience with NASM left me disappointed to the extent that I have elected to consider  letting go of  my AFAA Certifications altogether.\\\\n\\\\nSince NASM took over AFAA, sales people from their office have been e-mailing me, calling me, and all in an efffort to get me to renew \\\\\"for life\\\\\" for a \\\\\"great price\\\\\"!!! I told them that I was in no hurry, that I was up-to-date with my CEU and that I am considering mailing in  my payment.  They told me it was best to pay over the phone with my credit card and that they are doing away with mail-in payments because they get lost.  I asked a number of my colleagues and they told me the same happened but they could not turn down a good deal so they gave their credit cards over the phone for life-time re-certiifcations  but still have not received confirmation (8-12 weeks  still going).\\\\n\\\\nI was skeptical about their operation so I asked for their CEO contact number.  They told me they were not at liberty to tell me.  When I discloce my concerns, the tone of their representative changed to hostile.  I wanted to discuss with them about my approved AFAA CEU credits that I have earned and paid for, they were not wiilng to acknowledge those credits which AFAA confirmed were  acceptable and became offensive. I was informed that I would need to buy another 9 CEU units and pay over the phone  but if I opted for \\\\\"lifetime\\\\\" recertification with them, they would throw in 3 free CEU and give me half off for my PT certification.  There were alot of wheeling and dealing on their end in an efffort to exytract as much money from me as possible. \\\\n\\\\nI have nothing against corporate mergers and am in favor of progress.  What I wanted and needed to hear from them were updates of what they have done since they acquired AFAA.  I heard nothing to that effect.  I felt very uneasy about my conversation and so I told them I  would need to do some investigation and have a think. They did not care because bottom line, I was not comfortable giving my credit card over the phone; \\\\n\\\\nI have been investigating and many of your reviews here concur with my finding.  NASM\\\\/AFAA has become a \\\\\"business\\\\\" about selling on-line course, offering deals, recertifying people for life with the intention of hooking them into their on-line courses in the years to come, and collecting credit card information.  They have no data base of Certified Instructors for all to see; they are only available for their sales people to see  with \\\\\"optimizing sales\\\\\" as their primary objective.  They may say that NASM objective is \\\\\"excellence\\\\\" but nothing of what they are doing points to that. \\\\n\\\\nFor years, I take great pride in what I do  for my  students and clients.  For me, being a part of NASM\\\\/AFAA  now would diminish what Health\\\\/Fintess\\\\/Wellness is all about.  We should  do what we do because we care about people, promoting health, educating people, and staying fit; Being certified should be a positive experience; it should not be all about buying on-line courses, giving people access to our credit card,  and  stressful follow-ups to get our certification, access our information, or get help.  NASM  sales people are nice when they are trying to pitch their sale; but beyond their scripted lines,  they have nothing helpful to say to you .  I highly recommend that if you are considering NASM \\\\/AFAA, go on full alert, do your research, talk around,  check carefully sources for the positive reviews, the dates of those reviews, and make your decision.  \\\\n\\\\nIf you have had similar experiences, I urge that you share them your review.\",\"date\":\"2017-08-23 22:48:32\"}',\n",
       " '{\"review_id\":\"zzzqdnN5WatsvzwyxJE33w\",\"user_id\":\"KqKirfrjzVukVC91EF_tAw\",\"business_id\":\"hTsZSiftorNUFb1VaHCHHg\",\"stars\":5.0,\"useful\":2,\"funny\":0,\"cool\":1,\"text\":\"Best restaurant in Phoenix, hands-down.\\\\n\\\\nWe have been coming here since we moved to Phoenix in April and love it. The servers are knowledgeable, friendly and attentive. The wine list is excellent and if you are looking for something in particular just ask Matt their resident sommelier and barman.\\\\n\\\\nYou must try the arancini balls!!\",\"date\":\"2014-10-17 04:04:43\"}',\n",
       " '{\"review_id\":\"zzzqEEnDbDkWhjLD7BeGcg\",\"user_id\":\"k_9w7qRxS921rpSkYsTraA\",\"business_id\":\"D9Y1JQtSbattMvqfGnneow\",\"stars\":5.0,\"useful\":0,\"funny\":0,\"cool\":0,\"text\":\"Great service. Repaired my s8+ in a very convenient and timely manner. Definitely recommend.\",\"date\":\"2018-01-28 01:38:56\"}',\n",
       " '{\"review_id\":\"zzznG5ZfmNI5cuphVxYFwA\",\"user_id\":\"unEY79t6hHECP9Yd58R1dg\",\"business_id\":\"kROYR_6mVfg9WgJ7z1HOSA\",\"stars\":5.0,\"useful\":0,\"funny\":0,\"cool\":0,\"text\":\"Returned to sit at the bar, have a couple beers and a couple apps.  Once again ordered the Kentucky Bourbon Barrel Ale, which is becoming one of my favorite beers.  Ordered the garlic parm wings (of course) and the chili cheese fries.  Walked out fat and happy, which is the only way to leave this place.\",\"date\":\"2012-04-29 18:40:15\"}',\n",
       " '{\"review_id\":\"zzzixF7JtqiKbZUmgenr3g\",\"user_id\":\"tV7r9hc4FO5yAgu_j0xEmA\",\"business_id\":\"CUCXgBntRrZP4DGRgPtBuA\",\"stars\":5.0,\"useful\":0,\"funny\":0,\"cool\":0,\"text\":\"Great little shop. A great day trip from the city with lots of pieces to choose from big and small. I hope to take one of the cooking classes sometime!\",\"date\":\"2016-10-13 00:39:36\"}',\n",
       " '{\"review_id\":\"zzzgFOY12W_Ut_YEh9RPVQ\",\"user_id\":\"c40DTzCb-fHY6vI03PNRLw\",\"business_id\":\"fBxDUu5ftmNHbbX5qD_FcA\",\"stars\":2.0,\"useful\":0,\"funny\":0,\"cool\":0,\"text\":\"The food was your average breakfast items.. The only issue we had was staff.. They were too busy chit chatting behind the counter.. It took them forever to bring us the bill.. They were too busy discussing what ppl were saying about them on Yelp then checking on their customers..\",\"date\":\"2016-01-06 21:16:46\"}',\n",
       " '{\"review_id\":\"zzzfEjZm3rr21WEzS3oKdQ\",\"user_id\":\"xFCTIke85Q-wN-T3nt5FuA\",\"business_id\":\"PDxLOAtYqOz6z7M7h0LRoA\",\"stars\":5.0,\"useful\":0,\"funny\":0,\"cool\":0,\"text\":\"This place is one of my favorites. Great atmosphere, Great music, great service (depends what girl serves you) . I always have good time here. Place after 6 ..7 pm...is busy but they still bring the food fast. I come here at least 8 times a month.\",\"date\":\"2018-08-20 23:11:07\"}',\n",
       " '{\"review_id\":\"zzzdlQd9DHrlRrySW1wiZA\",\"user_id\":\"vXrUBAIN4aoCt7F5p0kU_g\",\"business_id\":\"q18xbq3Cbyp_BJyfMQxFxg\",\"stars\":3.0,\"useful\":0,\"funny\":0,\"cool\":0,\"text\":\"Melts in you mouth not in your hand.  Yeah right, not when you are in Vegas.  So hot outside.  That is what stopped me from buying the rainbow assorts M&M\\'s on the second floor.  This store is 4 floors filled with M&M merchandise.  The bonus things are the picture areas, 3-D movie is a c-, nascar, and people in costumes.  Be prepared that the movie 3-D glasses are warped so you most likely won\\'t be able to see the film with comfort.  \\\\n\\\\nThis place is packed, so walk in with patience.\",\"date\":\"2009-08-22 15:40:13\"}',\n",
       " '{\"review_id\":\"zzzblSSTZhw51XZ2swYvBg\",\"user_id\":\"Mo3L-LcQBiFO2Ohhj51XHQ\",\"business_id\":\"vg55SAkrEmuHpWfIMtJjBQ\",\"stars\":4.0,\"useful\":0,\"funny\":0,\"cool\":0,\"text\":\"Chic ambiance caring service focus on local providers interesting and delicious dishes. Most enjoyable evening\",\"date\":\"2013-06-30 20:55:59\"}']"
      ]
     },
     "execution_count": 9,
     "metadata": {},
     "output_type": "execute_result"
    }
   ],
   "source": [
    "review.top(10)"
   ]
  },
  {
   "cell_type": "code",
   "execution_count": null,
   "metadata": {},
   "outputs": [],
   "source": []
  }
 ],
 "metadata": {
  "kernelspec": {
   "display_name": "Python 3",
   "language": "python",
   "name": "python3"
  },
  "language_info": {
   "codemirror_mode": {
    "name": "ipython",
    "version": 3
   },
   "file_extension": ".py",
   "mimetype": "text/x-python",
   "name": "python",
   "nbconvert_exporter": "python",
   "pygments_lexer": "ipython3",
   "version": "3.6.8"
  }
 },
 "nbformat": 4,
 "nbformat_minor": 2
}
